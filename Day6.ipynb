{
  "nbformat": 4,
  "nbformat_minor": 0,
  "metadata": {
    "colab": {
      "provenance": []
    },
    "kernelspec": {
      "name": "python3",
      "display_name": "Python 3"
    },
    "language_info": {
      "name": "python"
    }
  },
  "cells": [
    {
      "cell_type": "code",
      "execution_count": null,
      "metadata": {
        "id": "qNBgbA-wstjp"
      },
      "outputs": [],
      "source": [
        "import spacy\n",
        "nlp = spacy.load(\"en_core_web_sm\")"
      ]
    },
    {
      "cell_type": "code",
      "source": [
        "text = (\"When Sebastian Thrun started working on self-driving cars at \"\n",
        "        \"Google in 2007, few people outside of the company took him \"\n",
        "        \"seriously. “I can tell you very senior CEOs of major American \"\n",
        "        \"car companies would shake my hand and turn away because I wasn’t \"\n",
        "        \"worth talking to,” said Thrun, in an interview with Recode earlier \"\n",
        "        \"this week.\")"
      ],
      "metadata": {
        "id": "NkHPCs3isukl"
      },
      "execution_count": null,
      "outputs": []
    },
    {
      "cell_type": "code",
      "source": [
        "type(text)"
      ],
      "metadata": {
        "colab": {
          "base_uri": "https://localhost:8080/"
        },
        "id": "LYo1w_hBgTCw",
        "outputId": "3bfff1f8-0c27-4618-d5c3-ead1f88a8370"
      },
      "execution_count": null,
      "outputs": [
        {
          "output_type": "execute_result",
          "data": {
            "text/plain": [
              "str"
            ]
          },
          "metadata": {},
          "execution_count": 5
        }
      ]
    },
    {
      "cell_type": "code",
      "source": [
        "text=text.lower()"
      ],
      "metadata": {
        "id": "kVD91AVbgUCp"
      },
      "execution_count": null,
      "outputs": []
    },
    {
      "cell_type": "code",
      "source": [
        "text.split(' ')"
      ],
      "metadata": {
        "colab": {
          "base_uri": "https://localhost:8080/"
        },
        "id": "dpG5NflpgkXO",
        "outputId": "8d49b117-e6d9-4a1c-93e7-73c714a2e55b"
      },
      "execution_count": null,
      "outputs": [
        {
          "output_type": "execute_result",
          "data": {
            "text/plain": [
              "['when',\n",
              " 'sebastian',\n",
              " 'thrun',\n",
              " 'started',\n",
              " 'working',\n",
              " 'on',\n",
              " 'self-driving',\n",
              " 'cars',\n",
              " 'at',\n",
              " 'google',\n",
              " 'in',\n",
              " '2007,',\n",
              " 'few',\n",
              " 'people',\n",
              " 'outside',\n",
              " 'of',\n",
              " 'the',\n",
              " 'company',\n",
              " 'took',\n",
              " 'him',\n",
              " 'seriously.',\n",
              " '“i',\n",
              " 'can',\n",
              " 'tell',\n",
              " 'you',\n",
              " 'very',\n",
              " 'senior',\n",
              " 'ceos',\n",
              " 'of',\n",
              " 'major',\n",
              " 'american',\n",
              " 'car',\n",
              " 'companies',\n",
              " 'would',\n",
              " 'shake',\n",
              " 'my',\n",
              " 'hand',\n",
              " 'and',\n",
              " 'turn',\n",
              " 'away',\n",
              " 'because',\n",
              " 'i',\n",
              " 'wasn’t',\n",
              " 'worth',\n",
              " 'talking',\n",
              " 'to,”',\n",
              " 'said',\n",
              " 'thrun,',\n",
              " 'in',\n",
              " 'an',\n",
              " 'interview',\n",
              " 'with',\n",
              " 'recode',\n",
              " 'earlier',\n",
              " 'this',\n",
              " 'week.']"
            ]
          },
          "metadata": {},
          "execution_count": 9
        }
      ]
    },
    {
      "cell_type": "code",
      "source": [
        "text_without_stopwords = [word for word in text.split(' ') if word not in nlp.Defaults.stop_words]"
      ],
      "metadata": {
        "id": "7Sgj4PvNgoav"
      },
      "execution_count": null,
      "outputs": []
    },
    {
      "cell_type": "code",
      "source": [
        "text_without_stopwords"
      ],
      "metadata": {
        "id": "fLP_PTF5jvfD",
        "outputId": "ac377640-9076-42b4-fe40-7394ec0f83b9",
        "colab": {
          "base_uri": "https://localhost:8080/"
        }
      },
      "execution_count": null,
      "outputs": [
        {
          "output_type": "execute_result",
          "data": {
            "text/plain": [
              "['sebastian',\n",
              " 'thrun',\n",
              " 'started',\n",
              " 'working',\n",
              " 'self-driving',\n",
              " 'cars',\n",
              " 'google',\n",
              " '2007,',\n",
              " 'people',\n",
              " 'outside',\n",
              " 'company',\n",
              " 'took',\n",
              " 'seriously.',\n",
              " '“i',\n",
              " 'tell',\n",
              " 'senior',\n",
              " 'ceos',\n",
              " 'major',\n",
              " 'american',\n",
              " 'car',\n",
              " 'companies',\n",
              " 'shake',\n",
              " 'hand',\n",
              " 'turn',\n",
              " 'away',\n",
              " 'wasn’t',\n",
              " 'worth',\n",
              " 'talking',\n",
              " 'to,”',\n",
              " 'said',\n",
              " 'thrun,',\n",
              " 'interview',\n",
              " 'recode',\n",
              " 'earlier',\n",
              " 'week.']"
            ]
          },
          "metadata": {},
          "execution_count": 12
        }
      ]
    },
    {
      "cell_type": "code",
      "source": [],
      "metadata": {
        "id": "xW2KvQKLjxLO"
      },
      "execution_count": null,
      "outputs": []
    }
  ]
}