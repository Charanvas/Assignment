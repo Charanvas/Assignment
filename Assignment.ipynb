{
  "nbformat": 4,
  "nbformat_minor": 0,
  "metadata": {
    "colab": {
      "provenance": []
    },
    "kernelspec": {
      "name": "python3",
      "display_name": "Python 3"
    },
    "language_info": {
      "name": "python"
    }
  },
  "cells": [
    {
      "cell_type": "code",
      "execution_count": 1,
      "metadata": {
        "colab": {
          "base_uri": "https://localhost:8080/"
        },
        "id": "qNBgbA-wstjp",
        "outputId": "23402a48-c152-42fb-96e4-80e2d3c2d36e"
      },
      "outputs": [
        {
          "output_type": "stream",
          "name": "stdout",
          "text": [
            "Enter username: admin\n",
            "Enter password: password123\n",
            "Access granted!\n"
          ]
        }
      ],
      "source": [
        "username = \"admin\"\n",
        "pwd = \"password123\"\n",
        "\n",
        "validate_username = lambda u: u == username\n",
        "validate_password = lambda p: p == pwd\n",
        "\n",
        "while True:\n",
        "    user_input = input(\"Enter username: \")\n",
        "    pwd_input = input(\"Enter password: \")\n",
        "\n",
        "    if validate_username(user_input) and validate_password(pwd_input):\n",
        "        print(\"Access granted!\")\n",
        "        break\n",
        "    elif not validate_username(user_input) and not validate_password(pwd_input):\n",
        "        print(\"Both username and password are incorrect. Please try again.\")\n",
        "    elif not validate_username(user_input):\n",
        "        print(\"Username is incorrect. Please try again.\")\n",
        "    elif not validate_password(pwd_input):\n",
        "        print(\"Password is incorrect. Please try again.\")\n"
      ]
    },
    {
      "cell_type": "code",
      "source": [
        "username = \"admin\"\n",
        "pwd = \"password123\"\n",
        "\n",
        "validate = lambda u, p: u == username and p == pwd\n",
        "\n",
        "while True:\n",
        "    user_input = input(\"Enter username: \")\n",
        "    pwd_input = input(\"Enter password: \")\n",
        "\n",
        "    if validate(user_input, pwd_input):\n",
        "        print(\"Access granted!\")\n",
        "        break\n",
        "    else:\n",
        "        print(\"Invalid username or password. Please try again.\")\n"
      ],
      "metadata": {
        "colab": {
          "base_uri": "https://localhost:8080/"
        },
        "id": "NkHPCs3isukl",
        "outputId": "9921e243-c6aa-4bec-963b-995d9ac2e534"
      },
      "execution_count": 2,
      "outputs": [
        {
          "output_type": "stream",
          "name": "stdout",
          "text": [
            "Enter username: charan\n",
            "Enter password: charab\n",
            "Invalid username or password. Please try again.\n",
            "Enter username: admin\n",
            "Enter password: password123\n",
            "Access granted!\n"
          ]
        }
      ]
    }
  ]
}